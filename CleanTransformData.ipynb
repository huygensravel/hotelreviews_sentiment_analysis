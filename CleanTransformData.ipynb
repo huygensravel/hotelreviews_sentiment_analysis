{
 "cells": [
  {
   "cell_type": "markdown",
   "id": "690ca20b-aed6-44fa-b833-638fa78be301",
   "metadata": {},
   "source": [
    "# Transforming and Cleaning Scrapped Data\n"
   ]
  },
  {
   "cell_type": "code",
   "execution_count": 76,
   "id": "e85640ba-595d-4a5e-b58c-3e37837eab09",
   "metadata": {},
   "outputs": [],
   "source": [
    "# importing library\n",
    "import numpy as np\n",
    "import pandas as pd\n",
    "import re"
   ]
  },
  {
   "cell_type": "code",
   "execution_count": 2,
   "id": "ba76c19d-1d93-42b2-83d9-ce4f3c3ad7f4",
   "metadata": {},
   "outputs": [
    {
     "name": "stdout",
     "output_type": "stream",
     "text": [
      "data/:\n",
      "low_price_data_Hanoi.csv  low_price_data_kl.csv     low_price_data_mg.csv\n",
      "low_price_data_HK.csv\t  low_price_data_Macao.csv  raw_review_data.csv\n"
     ]
    }
   ],
   "source": [
    "!ls -R data/"
   ]
  },
  {
   "cell_type": "code",
   "execution_count": 26,
   "id": "a37ddca7-6d92-4dd5-8b28-261cf8e0c99f",
   "metadata": {},
   "outputs": [],
   "source": [
    "def process_rating(df):\n",
    "    \"\"\"Function for dropping duplicates,  dropping na,\n",
    "    and converting the rating column datatype into numerical\"\"\"\n",
    "\n",
    "    processed_df = df.drop_duplicates()\n",
    "    processed_df = processed_df.dropna()\n",
    "    final_df = processed_df[[\"hotel_name\", \"review\"]]\n",
    "    final_df[\"rating\"] = processed_df.rating.map(lambda x: float(str(x).split('/')[0]))\n",
    "    \n",
    "    return final_df"
   ]
  },
  {
   "cell_type": "markdown",
   "id": "36ab772f-c9de-4fff-86e9-d08cd4f30e0a",
   "metadata": {},
   "source": [
    "## Exploring the first data file from Madagascar's Hotel"
   ]
  },
  {
   "cell_type": "code",
   "execution_count": 5,
   "id": "1cc55c61-0375-49fa-ae36-6ed2ab1fa2be",
   "metadata": {},
   "outputs": [],
   "source": [
    "# loading raw data into pandas dataframe\n",
    "raw_review_df = pd.read_csv(\"data/raw_review_data.csv\", index_col=0)"
   ]
  },
  {
   "cell_type": "code",
   "execution_count": 7,
   "id": "a2407677-5f0d-4f41-b718-2f762899d294",
   "metadata": {},
   "outputs": [
    {
     "data": {
      "text/plain": [
       "(2083, 3)"
      ]
     },
     "execution_count": 7,
     "metadata": {},
     "output_type": "execute_result"
    }
   ],
   "source": [
    "raw_review_df.shape"
   ]
  },
  {
   "cell_type": "code",
   "execution_count": 8,
   "id": "d5e751f8-7f97-47f3-8e9a-808388bf2a03",
   "metadata": {},
   "outputs": [
    {
     "data": {
      "text/html": [
       "<div>\n",
       "<style scoped>\n",
       "    .dataframe tbody tr th:only-of-type {\n",
       "        vertical-align: middle;\n",
       "    }\n",
       "\n",
       "    .dataframe tbody tr th {\n",
       "        vertical-align: top;\n",
       "    }\n",
       "\n",
       "    .dataframe thead th {\n",
       "        text-align: right;\n",
       "    }\n",
       "</style>\n",
       "<table border=\"1\" class=\"dataframe\">\n",
       "  <thead>\n",
       "    <tr style=\"text-align: right;\">\n",
       "      <th></th>\n",
       "      <th>hotel_name</th>\n",
       "      <th>review</th>\n",
       "      <th>rating</th>\n",
       "    </tr>\n",
       "  </thead>\n",
       "  <tbody>\n",
       "    <tr>\n",
       "      <th>count</th>\n",
       "      <td>2083</td>\n",
       "      <td>1895</td>\n",
       "      <td>2083</td>\n",
       "    </tr>\n",
       "    <tr>\n",
       "      <th>unique</th>\n",
       "      <td>241</td>\n",
       "      <td>1832</td>\n",
       "      <td>17</td>\n",
       "    </tr>\n",
       "    <tr>\n",
       "      <th>top</th>\n",
       "      <td>Ecolodge Le Ravoraha</td>\n",
       "      <td>+</td>\n",
       "      <td>5/5</td>\n",
       "    </tr>\n",
       "    <tr>\n",
       "      <th>freq</th>\n",
       "      <td>20</td>\n",
       "      <td>26</td>\n",
       "      <td>1054</td>\n",
       "    </tr>\n",
       "  </tbody>\n",
       "</table>\n",
       "</div>"
      ],
      "text/plain": [
       "                  hotel_name review rating\n",
       "count                   2083   1895   2083\n",
       "unique                   241   1832     17\n",
       "top     Ecolodge Le Ravoraha      +    5/5\n",
       "freq                      20     26   1054"
      ]
     },
     "execution_count": 8,
     "metadata": {},
     "output_type": "execute_result"
    }
   ],
   "source": [
    "raw_review_df.describe()"
   ]
  },
  {
   "cell_type": "code",
   "execution_count": 9,
   "id": "1cdd7792-177b-41d2-a8c3-9a47d8b0c3d5",
   "metadata": {},
   "outputs": [],
   "source": [
    "review_unique_df = raw_review_df.drop_duplicates()"
   ]
  },
  {
   "cell_type": "code",
   "execution_count": 10,
   "id": "b9d0b332-76a7-4075-97db-d7ad9e65d306",
   "metadata": {},
   "outputs": [
    {
     "data": {
      "text/html": [
       "<div>\n",
       "<style scoped>\n",
       "    .dataframe tbody tr th:only-of-type {\n",
       "        vertical-align: middle;\n",
       "    }\n",
       "\n",
       "    .dataframe tbody tr th {\n",
       "        vertical-align: top;\n",
       "    }\n",
       "\n",
       "    .dataframe thead th {\n",
       "        text-align: right;\n",
       "    }\n",
       "</style>\n",
       "<table border=\"1\" class=\"dataframe\">\n",
       "  <thead>\n",
       "    <tr style=\"text-align: right;\">\n",
       "      <th></th>\n",
       "      <th>hotel_name</th>\n",
       "      <th>review</th>\n",
       "      <th>rating</th>\n",
       "    </tr>\n",
       "  </thead>\n",
       "  <tbody>\n",
       "    <tr>\n",
       "      <th>count</th>\n",
       "      <td>1998</td>\n",
       "      <td>1866</td>\n",
       "      <td>1998</td>\n",
       "    </tr>\n",
       "    <tr>\n",
       "      <th>unique</th>\n",
       "      <td>241</td>\n",
       "      <td>1832</td>\n",
       "      <td>17</td>\n",
       "    </tr>\n",
       "    <tr>\n",
       "      <th>top</th>\n",
       "      <td>Emeraude Lodge</td>\n",
       "      <td>+</td>\n",
       "      <td>5/5</td>\n",
       "    </tr>\n",
       "    <tr>\n",
       "      <th>freq</th>\n",
       "      <td>14</td>\n",
       "      <td>17</td>\n",
       "      <td>1004</td>\n",
       "    </tr>\n",
       "  </tbody>\n",
       "</table>\n",
       "</div>"
      ],
      "text/plain": [
       "            hotel_name review rating\n",
       "count             1998   1866   1998\n",
       "unique             241   1832     17\n",
       "top     Emeraude Lodge      +    5/5\n",
       "freq                14     17   1004"
      ]
     },
     "execution_count": 10,
     "metadata": {},
     "output_type": "execute_result"
    }
   ],
   "source": [
    "review_unique_df.describe()"
   ]
  },
  {
   "cell_type": "code",
   "execution_count": 11,
   "id": "4afceb68-af30-48ff-a6aa-53cebc5cacf4",
   "metadata": {},
   "outputs": [
    {
     "data": {
      "text/html": [
       "<div>\n",
       "<style scoped>\n",
       "    .dataframe tbody tr th:only-of-type {\n",
       "        vertical-align: middle;\n",
       "    }\n",
       "\n",
       "    .dataframe tbody tr th {\n",
       "        vertical-align: top;\n",
       "    }\n",
       "\n",
       "    .dataframe thead th {\n",
       "        text-align: right;\n",
       "    }\n",
       "</style>\n",
       "<table border=\"1\" class=\"dataframe\">\n",
       "  <thead>\n",
       "    <tr style=\"text-align: right;\">\n",
       "      <th></th>\n",
       "      <th>hotel_name</th>\n",
       "      <th>review</th>\n",
       "      <th>rating</th>\n",
       "    </tr>\n",
       "  </thead>\n",
       "  <tbody>\n",
       "    <tr>\n",
       "      <th>0</th>\n",
       "      <td>Ecolodge Le Ravoraha</td>\n",
       "      <td>Very warm and welcoming staff!\\nThe rooms were...</td>\n",
       "      <td>5/5</td>\n",
       "    </tr>\n",
       "    <tr>\n",
       "      <th>1</th>\n",
       "      <td>Ecolodge Le Ravoraha</td>\n",
       "      <td>What a lovely place to stay. Beautiful bungalo...</td>\n",
       "      <td>5/5</td>\n",
       "    </tr>\n",
       "    <tr>\n",
       "      <th>2</th>\n",
       "      <td>Ecolodge Le Ravoraha</td>\n",
       "      <td>A fantastic place where it's worth spending so...</td>\n",
       "      <td>5/5</td>\n",
       "    </tr>\n",
       "    <tr>\n",
       "      <th>3</th>\n",
       "      <td>Ecolodge Le Ravoraha</td>\n",
       "      <td>We have stayed at Ecolodge Ravoraha for 12 day...</td>\n",
       "      <td>5/5</td>\n",
       "    </tr>\n",
       "    <tr>\n",
       "      <th>4</th>\n",
       "      <td>Ecolodge Le Ravoraha</td>\n",
       "      <td>During our whole trip in Madagascar, this was ...</td>\n",
       "      <td>3/5</td>\n",
       "    </tr>\n",
       "    <tr>\n",
       "      <th>5</th>\n",
       "      <td>Ecolodge Le Ravoraha</td>\n",
       "      <td>Very welcoming staff, hotel close to the airpo...</td>\n",
       "      <td>4/5</td>\n",
       "    </tr>\n",
       "    <tr>\n",
       "      <th>6</th>\n",
       "      <td>Ecolodge Le Ravoraha</td>\n",
       "      <td>Stunning beaches</td>\n",
       "      <td>5/5</td>\n",
       "    </tr>\n",
       "    <tr>\n",
       "      <th>7</th>\n",
       "      <td>Ecolodge Le Ravoraha</td>\n",
       "      <td>(Translated by Google) The place is very well ...</td>\n",
       "      <td>5/5</td>\n",
       "    </tr>\n",
       "    <tr>\n",
       "      <th>8</th>\n",
       "      <td>Ecolodge Le Ravoraha</td>\n",
       "      <td>(Translated by Google) Quite simply the best v...</td>\n",
       "      <td>5/5</td>\n",
       "    </tr>\n",
       "    <tr>\n",
       "      <th>9</th>\n",
       "      <td>Ecolodge Le Ravoraha</td>\n",
       "      <td>(Translated by Google) Fairytale place, cozy, ...</td>\n",
       "      <td>5/5</td>\n",
       "    </tr>\n",
       "  </tbody>\n",
       "</table>\n",
       "</div>"
      ],
      "text/plain": [
       "             hotel_name                                             review  \\\n",
       "0  Ecolodge Le Ravoraha  Very warm and welcoming staff!\\nThe rooms were...   \n",
       "1  Ecolodge Le Ravoraha  What a lovely place to stay. Beautiful bungalo...   \n",
       "2  Ecolodge Le Ravoraha  A fantastic place where it's worth spending so...   \n",
       "3  Ecolodge Le Ravoraha  We have stayed at Ecolodge Ravoraha for 12 day...   \n",
       "4  Ecolodge Le Ravoraha  During our whole trip in Madagascar, this was ...   \n",
       "5  Ecolodge Le Ravoraha  Very welcoming staff, hotel close to the airpo...   \n",
       "6  Ecolodge Le Ravoraha                                   Stunning beaches   \n",
       "7  Ecolodge Le Ravoraha  (Translated by Google) The place is very well ...   \n",
       "8  Ecolodge Le Ravoraha  (Translated by Google) Quite simply the best v...   \n",
       "9  Ecolodge Le Ravoraha  (Translated by Google) Fairytale place, cozy, ...   \n",
       "\n",
       "  rating  \n",
       "0    5/5  \n",
       "1    5/5  \n",
       "2    5/5  \n",
       "3    5/5  \n",
       "4    3/5  \n",
       "5    4/5  \n",
       "6    5/5  \n",
       "7    5/5  \n",
       "8    5/5  \n",
       "9    5/5  "
      ]
     },
     "execution_count": 11,
     "metadata": {},
     "output_type": "execute_result"
    }
   ],
   "source": [
    "review_unique_df.head(10)"
   ]
  },
  {
   "cell_type": "code",
   "execution_count": 12,
   "id": "cce70e22-e126-4188-816c-0ca5912f8aed",
   "metadata": {},
   "outputs": [
    {
     "data": {
      "text/html": [
       "<div>\n",
       "<style scoped>\n",
       "    .dataframe tbody tr th:only-of-type {\n",
       "        vertical-align: middle;\n",
       "    }\n",
       "\n",
       "    .dataframe tbody tr th {\n",
       "        vertical-align: top;\n",
       "    }\n",
       "\n",
       "    .dataframe thead th {\n",
       "        text-align: right;\n",
       "    }\n",
       "</style>\n",
       "<table border=\"1\" class=\"dataframe\">\n",
       "  <thead>\n",
       "    <tr style=\"text-align: right;\">\n",
       "      <th></th>\n",
       "      <th>hotel_name</th>\n",
       "      <th>review</th>\n",
       "      <th>rating</th>\n",
       "    </tr>\n",
       "  </thead>\n",
       "  <tbody>\n",
       "    <tr>\n",
       "      <th>2073</th>\n",
       "      <td>LONGO HOTEL ARCOBALENO</td>\n",
       "      <td>cheap and clean hotel in tulear. bungalows are...</td>\n",
       "      <td>4/5</td>\n",
       "    </tr>\n",
       "    <tr>\n",
       "      <th>2074</th>\n",
       "      <td>LONGO HOTEL ARCOBALENO</td>\n",
       "      <td>(Translated by Google) A perfect place to spen...</td>\n",
       "      <td>5/5</td>\n",
       "    </tr>\n",
       "    <tr>\n",
       "      <th>2075</th>\n",
       "      <td>LONGO HOTEL ARCOBALENO</td>\n",
       "      <td>(Translated by Google) not bad\\n(Original)\\n还不错</td>\n",
       "      <td>3/5</td>\n",
       "    </tr>\n",
       "    <tr>\n",
       "      <th>2076</th>\n",
       "      <td>LONGO HOTEL ARCOBALENO</td>\n",
       "      <td>(Translated by Google) Excellent rooms in the ...</td>\n",
       "      <td>5/5</td>\n",
       "    </tr>\n",
       "    <tr>\n",
       "      <th>2077</th>\n",
       "      <td>LONGO HOTEL ARCOBALENO</td>\n",
       "      <td>NaN</td>\n",
       "      <td>5/5</td>\n",
       "    </tr>\n",
       "    <tr>\n",
       "      <th>2078</th>\n",
       "      <td>LONGO HOTEL ARCOBALENO</td>\n",
       "      <td>NaN</td>\n",
       "      <td>4/5</td>\n",
       "    </tr>\n",
       "    <tr>\n",
       "      <th>2079</th>\n",
       "      <td>Homelidays</td>\n",
       "      <td>NaN</td>\n",
       "      <td>3/5</td>\n",
       "    </tr>\n",
       "    <tr>\n",
       "      <th>2080</th>\n",
       "      <td>B&amp;B Au Triporteur</td>\n",
       "      <td>Owner of property asked me to leave &amp; check in...</td>\n",
       "      <td>1/5</td>\n",
       "    </tr>\n",
       "    <tr>\n",
       "      <th>2081</th>\n",
       "      <td>B&amp;B Au Triporteur</td>\n",
       "      <td>Warm welcome\\nDinner excellent home cooked foo...</td>\n",
       "      <td>5/5</td>\n",
       "    </tr>\n",
       "    <tr>\n",
       "      <th>2082</th>\n",
       "      <td>B&amp;B Au Triporteur</td>\n",
       "      <td>(Translated by Google) Quiet place away from t...</td>\n",
       "      <td>4/5</td>\n",
       "    </tr>\n",
       "  </tbody>\n",
       "</table>\n",
       "</div>"
      ],
      "text/plain": [
       "                  hotel_name  \\\n",
       "2073  LONGO HOTEL ARCOBALENO   \n",
       "2074  LONGO HOTEL ARCOBALENO   \n",
       "2075  LONGO HOTEL ARCOBALENO   \n",
       "2076  LONGO HOTEL ARCOBALENO   \n",
       "2077  LONGO HOTEL ARCOBALENO   \n",
       "2078  LONGO HOTEL ARCOBALENO   \n",
       "2079              Homelidays   \n",
       "2080       B&B Au Triporteur   \n",
       "2081       B&B Au Triporteur   \n",
       "2082       B&B Au Triporteur   \n",
       "\n",
       "                                                 review rating  \n",
       "2073  cheap and clean hotel in tulear. bungalows are...    4/5  \n",
       "2074  (Translated by Google) A perfect place to spen...    5/5  \n",
       "2075    (Translated by Google) not bad\\n(Original)\\n还不错    3/5  \n",
       "2076  (Translated by Google) Excellent rooms in the ...    5/5  \n",
       "2077                                                NaN    5/5  \n",
       "2078                                                NaN    4/5  \n",
       "2079                                                NaN    3/5  \n",
       "2080  Owner of property asked me to leave & check in...    1/5  \n",
       "2081  Warm welcome\\nDinner excellent home cooked foo...    5/5  \n",
       "2082  (Translated by Google) Quiet place away from t...    4/5  "
      ]
     },
     "execution_count": 12,
     "metadata": {},
     "output_type": "execute_result"
    }
   ],
   "source": [
    "review_unique_df.tail(10)"
   ]
  },
  {
   "cell_type": "code",
   "execution_count": 13,
   "id": "1df770c3-af91-457f-829c-d3c1e4261d71",
   "metadata": {},
   "outputs": [
    {
     "data": {
      "text/plain": [
       "array(['5/5', '3/5', '4/5', '1/5', '2/5', '9.6/10', '10/10', '8.8/10',\n",
       "       '3.5/5', '4.5/10', '6.1/10', '4.8/5', '7.9/10', '5.6/10', '9.1/10',\n",
       "       '7.5/10', '8.3/10'], dtype=object)"
      ]
     },
     "execution_count": 13,
     "metadata": {},
     "output_type": "execute_result"
    }
   ],
   "source": [
    "review_unique_df[\"rating\"].unique()"
   ]
  },
  {
   "cell_type": "code",
   "execution_count": 14,
   "id": "53e26a74-deca-445e-9fee-7b5f9f828a87",
   "metadata": {},
   "outputs": [
    {
     "data": {
      "text/html": [
       "<div>\n",
       "<style scoped>\n",
       "    .dataframe tbody tr th:only-of-type {\n",
       "        vertical-align: middle;\n",
       "    }\n",
       "\n",
       "    .dataframe tbody tr th {\n",
       "        vertical-align: top;\n",
       "    }\n",
       "\n",
       "    .dataframe thead th {\n",
       "        text-align: right;\n",
       "    }\n",
       "</style>\n",
       "<table border=\"1\" class=\"dataframe\">\n",
       "  <thead>\n",
       "    <tr style=\"text-align: right;\">\n",
       "      <th></th>\n",
       "      <th>hotel_name</th>\n",
       "      <th>review</th>\n",
       "      <th>rating</th>\n",
       "    </tr>\n",
       "  </thead>\n",
       "  <tbody>\n",
       "    <tr>\n",
       "      <th>count</th>\n",
       "      <td>16</td>\n",
       "      <td>16</td>\n",
       "      <td>16</td>\n",
       "    </tr>\n",
       "    <tr>\n",
       "      <th>unique</th>\n",
       "      <td>4</td>\n",
       "      <td>2</td>\n",
       "      <td>8</td>\n",
       "    </tr>\n",
       "    <tr>\n",
       "      <th>top</th>\n",
       "      <td>Chez yolande</td>\n",
       "      <td>+</td>\n",
       "      <td>8.8/10</td>\n",
       "    </tr>\n",
       "    <tr>\n",
       "      <th>freq</th>\n",
       "      <td>5</td>\n",
       "      <td>15</td>\n",
       "      <td>5</td>\n",
       "    </tr>\n",
       "  </tbody>\n",
       "</table>\n",
       "</div>"
      ],
      "text/plain": [
       "          hotel_name review  rating\n",
       "count             16     16      16\n",
       "unique             4      2       8\n",
       "top     Chez yolande      +  8.8/10\n",
       "freq               5     15       5"
      ]
     },
     "execution_count": 14,
     "metadata": {},
     "output_type": "execute_result"
    }
   ],
   "source": [
    "review_unique_df[review_unique_df[\"rating\"].isin(['9.6/10',\n",
    "       '9.1/10', '8.3/10', '8.8/10', '4.5/10', '10/10', '6.1/10',\n",
    "       '5.4/10', '7.9/10'])].describe()"
   ]
  },
  {
   "cell_type": "code",
   "execution_count": 15,
   "id": "7f59c295-502b-47a4-9a4a-692659558722",
   "metadata": {},
   "outputs": [
    {
     "data": {
      "text/html": [
       "<div>\n",
       "<style scoped>\n",
       "    .dataframe tbody tr th:only-of-type {\n",
       "        vertical-align: middle;\n",
       "    }\n",
       "\n",
       "    .dataframe tbody tr th {\n",
       "        vertical-align: top;\n",
       "    }\n",
       "\n",
       "    .dataframe thead th {\n",
       "        text-align: right;\n",
       "    }\n",
       "</style>\n",
       "<table border=\"1\" class=\"dataframe\">\n",
       "  <thead>\n",
       "    <tr style=\"text-align: right;\">\n",
       "      <th></th>\n",
       "      <th>hotel_name</th>\n",
       "      <th>review</th>\n",
       "      <th>rating</th>\n",
       "    </tr>\n",
       "  </thead>\n",
       "  <tbody>\n",
       "    <tr>\n",
       "      <th>count</th>\n",
       "      <td>1980</td>\n",
       "      <td>1848</td>\n",
       "      <td>1980</td>\n",
       "    </tr>\n",
       "    <tr>\n",
       "      <th>unique</th>\n",
       "      <td>241</td>\n",
       "      <td>1830</td>\n",
       "      <td>7</td>\n",
       "    </tr>\n",
       "    <tr>\n",
       "      <th>top</th>\n",
       "      <td>Emeraude Lodge</td>\n",
       "      <td>Good</td>\n",
       "      <td>5/5</td>\n",
       "    </tr>\n",
       "    <tr>\n",
       "      <th>freq</th>\n",
       "      <td>14</td>\n",
       "      <td>4</td>\n",
       "      <td>1004</td>\n",
       "    </tr>\n",
       "  </tbody>\n",
       "</table>\n",
       "</div>"
      ],
      "text/plain": [
       "            hotel_name review rating\n",
       "count             1980   1848   1980\n",
       "unique             241   1830      7\n",
       "top     Emeraude Lodge   Good    5/5\n",
       "freq                14      4   1004"
      ]
     },
     "execution_count": 15,
     "metadata": {},
     "output_type": "execute_result"
    }
   ],
   "source": [
    "# keeping only ratings of the form x/5\n",
    "rating_to_keep = ['5/5', '3/5', '4/5', '1/5', '2/5', '3.5/5', '4.8/5']\n",
    "reviews_final = review_unique_df[review_unique_df[\"rating\"].isin(rating_to_keep)]\n",
    "reviews_final.describe()"
   ]
  },
  {
   "cell_type": "code",
   "execution_count": 27,
   "id": "a659ea5b-1d0d-44f7-87ab-59ba1a6de114",
   "metadata": {},
   "outputs": [],
   "source": [
    "# removing the denominator of the ratings and casting the result to float\n",
    "mg_review_final = process_rating(reviews_final) "
   ]
  },
  {
   "cell_type": "code",
   "execution_count": 28,
   "id": "dc331d9b-95c2-487e-871e-4feb9aee8e09",
   "metadata": {},
   "outputs": [
    {
     "data": {
      "text/plain": [
       "array([5. , 3. , 4. , 1. , 2. , 3.5, 4.8])"
      ]
     },
     "execution_count": 28,
     "metadata": {},
     "output_type": "execute_result"
    }
   ],
   "source": [
    "mg_review_final.rating.unique()"
   ]
  },
  {
   "cell_type": "code",
   "execution_count": 29,
   "id": "e2cf2d2f-499a-440d-9f26-4b08b03e5a5f",
   "metadata": {},
   "outputs": [
    {
     "data": {
      "text/html": [
       "<div>\n",
       "<style scoped>\n",
       "    .dataframe tbody tr th:only-of-type {\n",
       "        vertical-align: middle;\n",
       "    }\n",
       "\n",
       "    .dataframe tbody tr th {\n",
       "        vertical-align: top;\n",
       "    }\n",
       "\n",
       "    .dataframe thead th {\n",
       "        text-align: right;\n",
       "    }\n",
       "</style>\n",
       "<table border=\"1\" class=\"dataframe\">\n",
       "  <thead>\n",
       "    <tr style=\"text-align: right;\">\n",
       "      <th></th>\n",
       "      <th>hotel_name</th>\n",
       "      <th>review</th>\n",
       "      <th>rating</th>\n",
       "    </tr>\n",
       "  </thead>\n",
       "  <tbody>\n",
       "    <tr>\n",
       "      <th>0</th>\n",
       "      <td>Ecolodge Le Ravoraha</td>\n",
       "      <td>Very warm and welcoming staff!\\nThe rooms were...</td>\n",
       "      <td>5.0</td>\n",
       "    </tr>\n",
       "    <tr>\n",
       "      <th>1</th>\n",
       "      <td>Ecolodge Le Ravoraha</td>\n",
       "      <td>What a lovely place to stay. Beautiful bungalo...</td>\n",
       "      <td>5.0</td>\n",
       "    </tr>\n",
       "    <tr>\n",
       "      <th>2</th>\n",
       "      <td>Ecolodge Le Ravoraha</td>\n",
       "      <td>A fantastic place where it's worth spending so...</td>\n",
       "      <td>5.0</td>\n",
       "    </tr>\n",
       "    <tr>\n",
       "      <th>3</th>\n",
       "      <td>Ecolodge Le Ravoraha</td>\n",
       "      <td>We have stayed at Ecolodge Ravoraha for 12 day...</td>\n",
       "      <td>5.0</td>\n",
       "    </tr>\n",
       "    <tr>\n",
       "      <th>4</th>\n",
       "      <td>Ecolodge Le Ravoraha</td>\n",
       "      <td>During our whole trip in Madagascar, this was ...</td>\n",
       "      <td>3.0</td>\n",
       "    </tr>\n",
       "  </tbody>\n",
       "</table>\n",
       "</div>"
      ],
      "text/plain": [
       "             hotel_name                                             review  \\\n",
       "0  Ecolodge Le Ravoraha  Very warm and welcoming staff!\\nThe rooms were...   \n",
       "1  Ecolodge Le Ravoraha  What a lovely place to stay. Beautiful bungalo...   \n",
       "2  Ecolodge Le Ravoraha  A fantastic place where it's worth spending so...   \n",
       "3  Ecolodge Le Ravoraha  We have stayed at Ecolodge Ravoraha for 12 day...   \n",
       "4  Ecolodge Le Ravoraha  During our whole trip in Madagascar, this was ...   \n",
       "\n",
       "   rating  \n",
       "0     5.0  \n",
       "1     5.0  \n",
       "2     5.0  \n",
       "3     5.0  \n",
       "4     3.0  "
      ]
     },
     "execution_count": 29,
     "metadata": {},
     "output_type": "execute_result"
    }
   ],
   "source": [
    "mg_review_final.head()"
   ]
  },
  {
   "cell_type": "code",
   "execution_count": 30,
   "id": "d58c106d-0605-4d94-9e76-9e284003964d",
   "metadata": {},
   "outputs": [
    {
     "data": {
      "text/html": [
       "<div>\n",
       "<style scoped>\n",
       "    .dataframe tbody tr th:only-of-type {\n",
       "        vertical-align: middle;\n",
       "    }\n",
       "\n",
       "    .dataframe tbody tr th {\n",
       "        vertical-align: top;\n",
       "    }\n",
       "\n",
       "    .dataframe thead th {\n",
       "        text-align: right;\n",
       "    }\n",
       "</style>\n",
       "<table border=\"1\" class=\"dataframe\">\n",
       "  <thead>\n",
       "    <tr style=\"text-align: right;\">\n",
       "      <th></th>\n",
       "      <th>count</th>\n",
       "      <th>mean</th>\n",
       "      <th>std</th>\n",
       "      <th>min</th>\n",
       "      <th>25%</th>\n",
       "      <th>50%</th>\n",
       "      <th>75%</th>\n",
       "      <th>max</th>\n",
       "    </tr>\n",
       "  </thead>\n",
       "  <tbody>\n",
       "    <tr>\n",
       "      <th>rating</th>\n",
       "      <td>1848.0</td>\n",
       "      <td>4.131115</td>\n",
       "      <td>1.15152</td>\n",
       "      <td>1.0</td>\n",
       "      <td>4.0</td>\n",
       "      <td>5.0</td>\n",
       "      <td>5.0</td>\n",
       "      <td>5.0</td>\n",
       "    </tr>\n",
       "  </tbody>\n",
       "</table>\n",
       "</div>"
      ],
      "text/plain": [
       "         count      mean      std  min  25%  50%  75%  max\n",
       "rating  1848.0  4.131115  1.15152  1.0  4.0  5.0  5.0  5.0"
      ]
     },
     "execution_count": 30,
     "metadata": {},
     "output_type": "execute_result"
    }
   ],
   "source": [
    "mg_review_final.describe().T"
   ]
  },
  {
   "cell_type": "code",
   "execution_count": 31,
   "id": "d9370796-8d20-4ca0-b95b-e4f6d1a838ae",
   "metadata": {},
   "outputs": [
    {
     "data": {
      "text/plain": [
       "array([[<AxesSubplot:title={'center':'rating'}>]], dtype=object)"
      ]
     },
     "execution_count": 31,
     "metadata": {},
     "output_type": "execute_result"
    },
    {
     "data": {
      "image/png": "[encoded data removed]",
      "text/plain": [
       "<Figure size 432x288 with 1 Axes>"
      ]
     },
     "metadata": {
      "needs_background": "light"
     },
     "output_type": "display_data"
    }
   ],
   "source": [
    "mg_review_final.hist()"
   ]
  },
  {
   "cell_type": "markdown",
   "id": "b186f4c3-a3f1-43fa-a8db-58bd128f0880",
   "metadata": {},
   "source": [
    "**<big>The data is highly unbalanced so we need do collect negative reviews separately</big>**"
   ]
  },
  {
   "cell_type": "code",
   "execution_count": null,
   "id": "ea21cdb2-4f26-4a6f-8bdd-81d4aba9a4fa",
   "metadata": {},
   "outputs": [],
   "source": []
  },
  {
   "cell_type": "markdown",
   "id": "028e3234-7c38-413e-b548-abc48f62dc8c",
   "metadata": {},
   "source": [
    "## Cleaning data from other locations (with more negative reviews)"
   ]
  },
  {
   "cell_type": "markdown",
   "id": "66a21ed8-ce56-4c8b-a2ce-faec0b0bdbe6",
   "metadata": {},
   "source": [
    "### Macao"
   ]
  },
  {
   "cell_type": "code",
   "execution_count": 35,
   "id": "7e114512-0ab8-427e-bf0b-fe36178e71d9",
   "metadata": {},
   "outputs": [
    {
     "data": {
      "text/html": [
       "<div>\n",
       "<style scoped>\n",
       "    .dataframe tbody tr th:only-of-type {\n",
       "        vertical-align: middle;\n",
       "    }\n",
       "\n",
       "    .dataframe tbody tr th {\n",
       "        vertical-align: top;\n",
       "    }\n",
       "\n",
       "    .dataframe thead th {\n",
       "        text-align: right;\n",
       "    }\n",
       "</style>\n",
       "<table border=\"1\" class=\"dataframe\">\n",
       "  <thead>\n",
       "    <tr style=\"text-align: right;\">\n",
       "      <th></th>\n",
       "      <th>hotel_name</th>\n",
       "      <th>review</th>\n",
       "      <th>rating</th>\n",
       "    </tr>\n",
       "  </thead>\n",
       "  <tbody>\n",
       "    <tr>\n",
       "      <th>count</th>\n",
       "      <td>806</td>\n",
       "      <td>750</td>\n",
       "      <td>806</td>\n",
       "    </tr>\n",
       "    <tr>\n",
       "      <th>unique</th>\n",
       "      <td>97</td>\n",
       "      <td>749</td>\n",
       "      <td>15</td>\n",
       "    </tr>\n",
       "    <tr>\n",
       "      <th>top</th>\n",
       "      <td>MGM Cotai</td>\n",
       "      <td>그냥 혼자와서 쉬는에는 딱인듯해요</td>\n",
       "      <td>1/5</td>\n",
       "    </tr>\n",
       "    <tr>\n",
       "      <th>freq</th>\n",
       "      <td>20</td>\n",
       "      <td>2</td>\n",
       "      <td>256</td>\n",
       "    </tr>\n",
       "  </tbody>\n",
       "</table>\n",
       "</div>"
      ],
      "text/plain": [
       "       hotel_name              review rating\n",
       "count         806                 750    806\n",
       "unique         97                 749     15\n",
       "top     MGM Cotai  그냥 혼자와서 쉬는에는 딱인듯해요    1/5\n",
       "freq           20                   2    256"
      ]
     },
     "execution_count": 35,
     "metadata": {},
     "output_type": "execute_result"
    }
   ],
   "source": [
    "macao_df = pd.read_csv('data/low_price_data_Macao.csv', index_col=0)\n",
    "macao_df.describe()"
   ]
  },
  {
   "cell_type": "code",
   "execution_count": 34,
   "id": "76eb251e-f1e7-412b-b2cd-a5b4196bb4e3",
   "metadata": {},
   "outputs": [
    {
     "data": {
      "text/plain": [
       "array(['5/5', '3/5', '4/5', '1/5', '2.5/5', '2.7/5', '3.2/5', '3.5/5',\n",
       "       '2/5', '3.7/5', '4.3/5', '4.5/5', '1.5/5', '1.7/5', '2.2/5'],\n",
       "      dtype=object)"
      ]
     },
     "execution_count": 34,
     "metadata": {},
     "output_type": "execute_result"
    }
   ],
   "source": [
    "macao_df[\"rating\"].unique()"
   ]
  },
  {
   "cell_type": "code",
   "execution_count": 36,
   "id": "2b3df433-0137-4c42-97a3-bd0ecda00cd2",
   "metadata": {},
   "outputs": [],
   "source": [
    "macao_review_final = process_rating(macao_df)"
   ]
  },
  {
   "cell_type": "code",
   "execution_count": 37,
   "id": "922ba8fa-e519-4501-9ef7-5f2967ff9cfd",
   "metadata": {},
   "outputs": [
    {
     "data": {
      "text/html": [
       "<div>\n",
       "<style scoped>\n",
       "    .dataframe tbody tr th:only-of-type {\n",
       "        vertical-align: middle;\n",
       "    }\n",
       "\n",
       "    .dataframe tbody tr th {\n",
       "        vertical-align: top;\n",
       "    }\n",
       "\n",
       "    .dataframe thead th {\n",
       "        text-align: right;\n",
       "    }\n",
       "</style>\n",
       "<table border=\"1\" class=\"dataframe\">\n",
       "  <thead>\n",
       "    <tr style=\"text-align: right;\">\n",
       "      <th></th>\n",
       "      <th>count</th>\n",
       "      <th>mean</th>\n",
       "      <th>std</th>\n",
       "      <th>min</th>\n",
       "      <th>25%</th>\n",
       "      <th>50%</th>\n",
       "      <th>75%</th>\n",
       "      <th>max</th>\n",
       "    </tr>\n",
       "  </thead>\n",
       "  <tbody>\n",
       "    <tr>\n",
       "      <th>rating</th>\n",
       "      <td>750.0</td>\n",
       "      <td>3.1876</td>\n",
       "      <td>1.663531</td>\n",
       "      <td>1.0</td>\n",
       "      <td>1.0</td>\n",
       "      <td>4.0</td>\n",
       "      <td>5.0</td>\n",
       "      <td>5.0</td>\n",
       "    </tr>\n",
       "  </tbody>\n",
       "</table>\n",
       "</div>"
      ],
      "text/plain": [
       "        count    mean       std  min  25%  50%  75%  max\n",
       "rating  750.0  3.1876  1.663531  1.0  1.0  4.0  5.0  5.0"
      ]
     },
     "execution_count": 37,
     "metadata": {},
     "output_type": "execute_result"
    }
   ],
   "source": [
    "macao_review_final.describe().T"
   ]
  },
  {
   "cell_type": "code",
   "execution_count": 53,
   "id": "b992513b-9a89-4cb5-8827-bdc9c027c954",
   "metadata": {},
   "outputs": [
    {
     "data": {
      "text/plain": [
       "array([[<AxesSubplot:title={'center':'rating'}>]], dtype=object)"
      ]
     },
     "execution_count": 53,
     "metadata": {},
     "output_type": "execute_result"
    },
    {
     "data": {
      "image/png": "[encoded data removed]",
      "text/plain": [
       "<Figure size 432x288 with 1 Axes>"
      ]
     },
     "metadata": {
      "needs_background": "light"
     },
     "output_type": "display_data"
    }
   ],
   "source": [
    "macao_review_final.hist()"
   ]
  },
  {
   "cell_type": "markdown",
   "id": "aeb61a1d-cbbc-4bfe-9026-25fdfcfaa509",
   "metadata": {},
   "source": [
    "### Hong Kong"
   ]
  },
  {
   "cell_type": "code",
   "execution_count": 39,
   "id": "57bffb79-bbd4-4187-9f1f-fb3d46519148",
   "metadata": {},
   "outputs": [
    {
     "data": {
      "text/html": [
       "<div>\n",
       "<style scoped>\n",
       "    .dataframe tbody tr th:only-of-type {\n",
       "        vertical-align: middle;\n",
       "    }\n",
       "\n",
       "    .dataframe tbody tr th {\n",
       "        vertical-align: top;\n",
       "    }\n",
       "\n",
       "    .dataframe thead th {\n",
       "        text-align: right;\n",
       "    }\n",
       "</style>\n",
       "<table border=\"1\" class=\"dataframe\">\n",
       "  <thead>\n",
       "    <tr style=\"text-align: right;\">\n",
       "      <th></th>\n",
       "      <th>hotel_name</th>\n",
       "      <th>review</th>\n",
       "      <th>rating</th>\n",
       "    </tr>\n",
       "  </thead>\n",
       "  <tbody>\n",
       "    <tr>\n",
       "      <th>count</th>\n",
       "      <td>1080</td>\n",
       "      <td>909</td>\n",
       "      <td>1080</td>\n",
       "    </tr>\n",
       "    <tr>\n",
       "      <th>unique</th>\n",
       "      <td>132</td>\n",
       "      <td>900</td>\n",
       "      <td>17</td>\n",
       "    </tr>\n",
       "    <tr>\n",
       "      <th>top</th>\n",
       "      <td>7 Days Inn</td>\n",
       "      <td>Well...</td>\n",
       "      <td>1/5</td>\n",
       "    </tr>\n",
       "    <tr>\n",
       "      <th>freq</th>\n",
       "      <td>42</td>\n",
       "      <td>5</td>\n",
       "      <td>344</td>\n",
       "    </tr>\n",
       "  </tbody>\n",
       "</table>\n",
       "</div>"
      ],
      "text/plain": [
       "        hotel_name   review rating\n",
       "count         1080      909   1080\n",
       "unique         132      900     17\n",
       "top     7 Days Inn  Well...    1/5\n",
       "freq            42        5    344"
      ]
     },
     "execution_count": 39,
     "metadata": {},
     "output_type": "execute_result"
    }
   ],
   "source": [
    "hk_review_df = pd.read_csv('data/low_price_data_HK.csv', index_col=0)\n",
    "hk_review_df.describe()"
   ]
  },
  {
   "cell_type": "code",
   "execution_count": 42,
   "id": "ca870add-f0a7-4810-b9c1-e1cd2db8f1e7",
   "metadata": {},
   "outputs": [
    {
     "data": {
      "text/html": [
       "<div>\n",
       "<style scoped>\n",
       "    .dataframe tbody tr th:only-of-type {\n",
       "        vertical-align: middle;\n",
       "    }\n",
       "\n",
       "    .dataframe tbody tr th {\n",
       "        vertical-align: top;\n",
       "    }\n",
       "\n",
       "    .dataframe thead th {\n",
       "        text-align: right;\n",
       "    }\n",
       "</style>\n",
       "<table border=\"1\" class=\"dataframe\">\n",
       "  <thead>\n",
       "    <tr style=\"text-align: right;\">\n",
       "      <th></th>\n",
       "      <th>count</th>\n",
       "      <th>mean</th>\n",
       "      <th>std</th>\n",
       "      <th>min</th>\n",
       "      <th>25%</th>\n",
       "      <th>50%</th>\n",
       "      <th>75%</th>\n",
       "      <th>max</th>\n",
       "    </tr>\n",
       "  </thead>\n",
       "  <tbody>\n",
       "    <tr>\n",
       "      <th>rating</th>\n",
       "      <td>909.0</td>\n",
       "      <td>2.836194</td>\n",
       "      <td>1.510645</td>\n",
       "      <td>1.0</td>\n",
       "      <td>1.0</td>\n",
       "      <td>3.0</td>\n",
       "      <td>4.0</td>\n",
       "      <td>5.0</td>\n",
       "    </tr>\n",
       "  </tbody>\n",
       "</table>\n",
       "</div>"
      ],
      "text/plain": [
       "        count      mean       std  min  25%  50%  75%  max\n",
       "rating  909.0  2.836194  1.510645  1.0  1.0  3.0  4.0  5.0"
      ]
     },
     "execution_count": 42,
     "metadata": {},
     "output_type": "execute_result"
    }
   ],
   "source": [
    "hk_review_final = process_rating(hk_review_df)\n",
    "hk_review_final.describe().T"
   ]
  },
  {
   "cell_type": "code",
   "execution_count": 52,
   "id": "945d4736-42ea-4792-a062-b4b0dba5d7e4",
   "metadata": {},
   "outputs": [
    {
     "data": {
      "text/plain": [
       "array([[<AxesSubplot:title={'center':'rating'}>]], dtype=object)"
      ]
     },
     "execution_count": 52,
     "metadata": {},
     "output_type": "execute_result"
    },
    {
     "data": {
      "image/png": "[encoded data removed]",
      "text/plain": [
       "<Figure size 432x288 with 1 Axes>"
      ]
     },
     "metadata": {
      "needs_background": "light"
     },
     "output_type": "display_data"
    }
   ],
   "source": [
    "hk_review_final.hist()"
   ]
  },
  {
   "cell_type": "markdown",
   "id": "bdf7e4b2-43ea-469e-9147-ddfce5d4e0fd",
   "metadata": {},
   "source": [
    "### Hanoi"
   ]
  },
  {
   "cell_type": "code",
   "execution_count": 45,
   "id": "35effca1-d2b7-46e3-926f-56c96058435c",
   "metadata": {},
   "outputs": [
    {
     "data": {
      "text/html": [
       "<div>\n",
       "<style scoped>\n",
       "    .dataframe tbody tr th:only-of-type {\n",
       "        vertical-align: middle;\n",
       "    }\n",
       "\n",
       "    .dataframe tbody tr th {\n",
       "        vertical-align: top;\n",
       "    }\n",
       "\n",
       "    .dataframe thead th {\n",
       "        text-align: right;\n",
       "    }\n",
       "</style>\n",
       "<table border=\"1\" class=\"dataframe\">\n",
       "  <thead>\n",
       "    <tr style=\"text-align: right;\">\n",
       "      <th></th>\n",
       "      <th>hotel_name</th>\n",
       "      <th>review</th>\n",
       "      <th>rating</th>\n",
       "    </tr>\n",
       "  </thead>\n",
       "  <tbody>\n",
       "    <tr>\n",
       "      <th>count</th>\n",
       "      <td>877</td>\n",
       "      <td>749</td>\n",
       "      <td>877</td>\n",
       "    </tr>\n",
       "    <tr>\n",
       "      <th>unique</th>\n",
       "      <td>97</td>\n",
       "      <td>741</td>\n",
       "      <td>11</td>\n",
       "    </tr>\n",
       "    <tr>\n",
       "      <th>top</th>\n",
       "      <td>Charming Hotel Hanoi</td>\n",
       "      <td>Ok</td>\n",
       "      <td>5/5</td>\n",
       "    </tr>\n",
       "    <tr>\n",
       "      <th>freq</th>\n",
       "      <td>10</td>\n",
       "      <td>5</td>\n",
       "      <td>346</td>\n",
       "    </tr>\n",
       "  </tbody>\n",
       "</table>\n",
       "</div>"
      ],
      "text/plain": [
       "                  hotel_name review rating\n",
       "count                    877    749    877\n",
       "unique                    97    741     11\n",
       "top     Charming Hotel Hanoi     Ok    5/5\n",
       "freq                      10      5    346"
      ]
     },
     "execution_count": 45,
     "metadata": {},
     "output_type": "execute_result"
    }
   ],
   "source": [
    "hanoi_review_df = pd.read_csv('data/low_price_data_Hanoi.csv', index_col=0)\n",
    "hanoi_review_df.describe()"
   ]
  },
  {
   "cell_type": "code",
   "execution_count": 46,
   "id": "a08632ae-9de5-4990-9741-af4800e1d70f",
   "metadata": {},
   "outputs": [
    {
     "data": {
      "text/html": [
       "<div>\n",
       "<style scoped>\n",
       "    .dataframe tbody tr th:only-of-type {\n",
       "        vertical-align: middle;\n",
       "    }\n",
       "\n",
       "    .dataframe tbody tr th {\n",
       "        vertical-align: top;\n",
       "    }\n",
       "\n",
       "    .dataframe thead th {\n",
       "        text-align: right;\n",
       "    }\n",
       "</style>\n",
       "<table border=\"1\" class=\"dataframe\">\n",
       "  <thead>\n",
       "    <tr style=\"text-align: right;\">\n",
       "      <th></th>\n",
       "      <th>count</th>\n",
       "      <th>mean</th>\n",
       "      <th>std</th>\n",
       "      <th>min</th>\n",
       "      <th>25%</th>\n",
       "      <th>50%</th>\n",
       "      <th>75%</th>\n",
       "      <th>max</th>\n",
       "    </tr>\n",
       "  </thead>\n",
       "  <tbody>\n",
       "    <tr>\n",
       "      <th>rating</th>\n",
       "      <td>749.0</td>\n",
       "      <td>3.383178</td>\n",
       "      <td>1.707137</td>\n",
       "      <td>1.0</td>\n",
       "      <td>1.0</td>\n",
       "      <td>4.0</td>\n",
       "      <td>5.0</td>\n",
       "      <td>5.0</td>\n",
       "    </tr>\n",
       "  </tbody>\n",
       "</table>\n",
       "</div>"
      ],
      "text/plain": [
       "        count      mean       std  min  25%  50%  75%  max\n",
       "rating  749.0  3.383178  1.707137  1.0  1.0  4.0  5.0  5.0"
      ]
     },
     "execution_count": 46,
     "metadata": {},
     "output_type": "execute_result"
    }
   ],
   "source": [
    "hanoi_review_final = process_rating(hanoi_review_df)\n",
    "hanoi_review_final.describe().T"
   ]
  },
  {
   "cell_type": "code",
   "execution_count": 51,
   "id": "e33c7ef7-06ba-41c3-8a04-d2bc4e1ad147",
   "metadata": {},
   "outputs": [
    {
     "data": {
      "text/plain": [
       "array([[<AxesSubplot:title={'center':'rating'}>]], dtype=object)"
      ]
     },
     "execution_count": 51,
     "metadata": {},
     "output_type": "execute_result"
    },
    {
     "data": {
      "image/png": "[encoded data removed]",
      "text/plain": [
       "<Figure size 432x288 with 1 Axes>"
      ]
     },
     "metadata": {
      "needs_background": "light"
     },
     "output_type": "display_data"
    }
   ],
   "source": [
    "hanoi_review_final.hist()"
   ]
  },
  {
   "cell_type": "markdown",
   "id": "89f41d74-1233-41b2-b4c4-2ef704f7585f",
   "metadata": {},
   "source": [
    "### Kuala Lumpur"
   ]
  },
  {
   "cell_type": "code",
   "execution_count": 48,
   "id": "3a6c59b4-8211-404f-9bb1-cf2d70c8d5c3",
   "metadata": {},
   "outputs": [
    {
     "data": {
      "text/html": [
       "<div>\n",
       "<style scoped>\n",
       "    .dataframe tbody tr th:only-of-type {\n",
       "        vertical-align: middle;\n",
       "    }\n",
       "\n",
       "    .dataframe tbody tr th {\n",
       "        vertical-align: top;\n",
       "    }\n",
       "\n",
       "    .dataframe thead th {\n",
       "        text-align: right;\n",
       "    }\n",
       "</style>\n",
       "<table border=\"1\" class=\"dataframe\">\n",
       "  <thead>\n",
       "    <tr style=\"text-align: right;\">\n",
       "      <th></th>\n",
       "      <th>hotel_name</th>\n",
       "      <th>review</th>\n",
       "      <th>rating</th>\n",
       "    </tr>\n",
       "  </thead>\n",
       "  <tbody>\n",
       "    <tr>\n",
       "      <th>count</th>\n",
       "      <td>1736</td>\n",
       "      <td>1527</td>\n",
       "      <td>1736</td>\n",
       "    </tr>\n",
       "    <tr>\n",
       "      <th>unique</th>\n",
       "      <td>177</td>\n",
       "      <td>1464</td>\n",
       "      <td>11</td>\n",
       "    </tr>\n",
       "    <tr>\n",
       "      <th>top</th>\n",
       "      <td>Soho Town Hotel</td>\n",
       "      <td>Ok</td>\n",
       "      <td>1/5</td>\n",
       "    </tr>\n",
       "    <tr>\n",
       "      <th>freq</th>\n",
       "      <td>20</td>\n",
       "      <td>8</td>\n",
       "      <td>648</td>\n",
       "    </tr>\n",
       "  </tbody>\n",
       "</table>\n",
       "</div>"
      ],
      "text/plain": [
       "             hotel_name review rating\n",
       "count              1736   1527   1736\n",
       "unique              177   1464     11\n",
       "top     Soho Town Hotel     Ok    1/5\n",
       "freq                 20      8    648"
      ]
     },
     "execution_count": 48,
     "metadata": {},
     "output_type": "execute_result"
    }
   ],
   "source": [
    "kl_review_raw = pd.read_csv('data/low_price_data_kl.csv', index_col=0)\n",
    "kl_review_raw.describe()\n"
   ]
  },
  {
   "cell_type": "code",
   "execution_count": 49,
   "id": "e1c8012d-5ac3-41e2-8f1e-1b117e476a13",
   "metadata": {},
   "outputs": [
    {
     "data": {
      "text/html": [
       "<div>\n",
       "<style scoped>\n",
       "    .dataframe tbody tr th:only-of-type {\n",
       "        vertical-align: middle;\n",
       "    }\n",
       "\n",
       "    .dataframe tbody tr th {\n",
       "        vertical-align: top;\n",
       "    }\n",
       "\n",
       "    .dataframe thead th {\n",
       "        text-align: right;\n",
       "    }\n",
       "</style>\n",
       "<table border=\"1\" class=\"dataframe\">\n",
       "  <thead>\n",
       "    <tr style=\"text-align: right;\">\n",
       "      <th></th>\n",
       "      <th>count</th>\n",
       "      <th>mean</th>\n",
       "      <th>std</th>\n",
       "      <th>min</th>\n",
       "      <th>25%</th>\n",
       "      <th>50%</th>\n",
       "      <th>75%</th>\n",
       "      <th>max</th>\n",
       "    </tr>\n",
       "  </thead>\n",
       "  <tbody>\n",
       "    <tr>\n",
       "      <th>rating</th>\n",
       "      <td>1481.0</td>\n",
       "      <td>2.982107</td>\n",
       "      <td>1.68694</td>\n",
       "      <td>1.0</td>\n",
       "      <td>1.0</td>\n",
       "      <td>3.0</td>\n",
       "      <td>5.0</td>\n",
       "      <td>5.0</td>\n",
       "    </tr>\n",
       "  </tbody>\n",
       "</table>\n",
       "</div>"
      ],
      "text/plain": [
       "         count      mean      std  min  25%  50%  75%  max\n",
       "rating  1481.0  2.982107  1.68694  1.0  1.0  3.0  5.0  5.0"
      ]
     },
     "execution_count": 49,
     "metadata": {},
     "output_type": "execute_result"
    }
   ],
   "source": [
    "kl_review_final = process_rating(kl_review_raw)\n",
    "kl_review_final.describe().T"
   ]
  },
  {
   "cell_type": "code",
   "execution_count": 50,
   "id": "6a1b7ed1-6a44-445e-89bb-c820f660ddf6",
   "metadata": {},
   "outputs": [
    {
     "data": {
      "text/plain": [
       "array([[<AxesSubplot:title={'center':'rating'}>]], dtype=object)"
      ]
     },
     "execution_count": 50,
     "metadata": {},
     "output_type": "execute_result"
    },
    {
     "data": {
      "image/png": "[encoded data removed]",
      "text/plain": [
       "<Figure size 432x288 with 1 Axes>"
      ]
     },
     "metadata": {
      "needs_background": "light"
     },
     "output_type": "display_data"
    }
   ],
   "source": [
    "kl_review_final.hist()"
   ]
  },
  {
   "cell_type": "markdown",
   "id": "d250074e-15df-4a4e-b268-1a8be77caab2",
   "metadata": {},
   "source": [
    "### Madagascar (low price)"
   ]
  },
  {
   "cell_type": "code",
   "execution_count": 56,
   "id": "799873e1-b4e1-400b-bb0f-9fcab58f0f12",
   "metadata": {},
   "outputs": [
    {
     "data": {
      "text/html": [
       "<div>\n",
       "<style scoped>\n",
       "    .dataframe tbody tr th:only-of-type {\n",
       "        vertical-align: middle;\n",
       "    }\n",
       "\n",
       "    .dataframe tbody tr th {\n",
       "        vertical-align: top;\n",
       "    }\n",
       "\n",
       "    .dataframe thead th {\n",
       "        text-align: right;\n",
       "    }\n",
       "</style>\n",
       "<table border=\"1\" class=\"dataframe\">\n",
       "  <thead>\n",
       "    <tr style=\"text-align: right;\">\n",
       "      <th></th>\n",
       "      <th>count</th>\n",
       "      <th>mean</th>\n",
       "      <th>std</th>\n",
       "      <th>min</th>\n",
       "      <th>25%</th>\n",
       "      <th>50%</th>\n",
       "      <th>75%</th>\n",
       "      <th>max</th>\n",
       "    </tr>\n",
       "  </thead>\n",
       "  <tbody>\n",
       "    <tr>\n",
       "      <th>rating</th>\n",
       "      <td>1091.0</td>\n",
       "      <td>4.000183</td>\n",
       "      <td>1.330593</td>\n",
       "      <td>1.0</td>\n",
       "      <td>3.0</td>\n",
       "      <td>4.0</td>\n",
       "      <td>5.0</td>\n",
       "      <td>10.0</td>\n",
       "    </tr>\n",
       "  </tbody>\n",
       "</table>\n",
       "</div>"
      ],
      "text/plain": [
       "         count      mean       std  min  25%  50%  75%   max\n",
       "rating  1091.0  4.000183  1.330593  1.0  3.0  4.0  5.0  10.0"
      ]
     },
     "execution_count": 56,
     "metadata": {},
     "output_type": "execute_result"
    }
   ],
   "source": [
    "mg_lowprice_raw = pd.read_csv('data/low_price_data_mg.csv', index_col=0)\n",
    "mg_lowprice_final = process_rating(mg_lowprice_raw)\n",
    "mg_lowprice_final.describe().T"
   ]
  },
  {
   "cell_type": "code",
   "execution_count": 57,
   "id": "03932cbf-125c-415d-8e7d-c7833ab086fc",
   "metadata": {},
   "outputs": [
    {
     "data": {
      "text/plain": [
       "array([[<AxesSubplot:title={'center':'rating'}>]], dtype=object)"
      ]
     },
     "execution_count": 57,
     "metadata": {},
     "output_type": "execute_result"
    },
    {
     "data": {
      "image/png": "[encoded data removed]",
      "text/plain": [
       "<Figure size 432x288 with 1 Axes>"
      ]
     },
     "metadata": {
      "needs_background": "light"
     },
     "output_type": "display_data"
    }
   ],
   "source": [
    "mg_lowprice_final.hist()"
   ]
  },
  {
   "cell_type": "markdown",
   "id": "8e6f4224-2577-4a4c-aa28-b158134efb50",
   "metadata": {},
   "source": [
    "## Combining all the reviews"
   ]
  },
  {
   "cell_type": "code",
   "execution_count": 61,
   "id": "1698d726-0c64-46d5-a8f6-b24732eafe31",
   "metadata": {},
   "outputs": [],
   "source": [
    "all_review = pd.concat([mg_review_final,\n",
    "                        mg_lowprice_final,\n",
    "                        hanoi_review_final,\n",
    "                        hk_review_final,\n",
    "                        macao_review_final,\n",
    "                        kl_review_final])"
   ]
  },
  {
   "cell_type": "code",
   "execution_count": 64,
   "id": "a9a10c2c-d418-4509-8ebc-456a3555ec1f",
   "metadata": {},
   "outputs": [
    {
     "data": {
      "text/html": [
       "<div>\n",
       "<style scoped>\n",
       "    .dataframe tbody tr th:only-of-type {\n",
       "        vertical-align: middle;\n",
       "    }\n",
       "\n",
       "    .dataframe tbody tr th {\n",
       "        vertical-align: top;\n",
       "    }\n",
       "\n",
       "    .dataframe thead th {\n",
       "        text-align: right;\n",
       "    }\n",
       "</style>\n",
       "<table border=\"1\" class=\"dataframe\">\n",
       "  <thead>\n",
       "    <tr style=\"text-align: right;\">\n",
       "      <th></th>\n",
       "      <th>count</th>\n",
       "      <th>mean</th>\n",
       "      <th>std</th>\n",
       "      <th>min</th>\n",
       "      <th>25%</th>\n",
       "      <th>50%</th>\n",
       "      <th>75%</th>\n",
       "      <th>max</th>\n",
       "    </tr>\n",
       "  </thead>\n",
       "  <tbody>\n",
       "    <tr>\n",
       "      <th>rating</th>\n",
       "      <td>5855.0</td>\n",
       "      <td>3.423706</td>\n",
       "      <td>1.608309</td>\n",
       "      <td>1.0</td>\n",
       "      <td>2.0</td>\n",
       "      <td>4.0</td>\n",
       "      <td>5.0</td>\n",
       "      <td>10.0</td>\n",
       "    </tr>\n",
       "  </tbody>\n",
       "</table>\n",
       "</div>"
      ],
      "text/plain": [
       "         count      mean       std  min  25%  50%  75%   max\n",
       "rating  5855.0  3.423706  1.608309  1.0  2.0  4.0  5.0  10.0"
      ]
     },
     "execution_count": 64,
     "metadata": {},
     "output_type": "execute_result"
    }
   ],
   "source": [
    "all_review = all_review.drop_duplicates()\n",
    "all_review.describe().T"
   ]
  },
  {
   "cell_type": "code",
   "execution_count": 65,
   "id": "08b6a258-e120-4797-837a-4779b2cb6232",
   "metadata": {},
   "outputs": [
    {
     "data": {
      "text/plain": [
       "array([[<AxesSubplot:title={'center':'rating'}>]], dtype=object)"
      ]
     },
     "execution_count": 65,
     "metadata": {},
     "output_type": "execute_result"
    },
    {
     "data": {
      "image/png": "[encoded data removed]",
      "text/plain": [
       "<Figure size 432x288 with 1 Axes>"
      ]
     },
     "metadata": {
      "needs_background": "light"
     },
     "output_type": "display_data"
    }
   ],
   "source": [
    "all_review.hist()"
   ]
  },
  {
   "cell_type": "code",
   "execution_count": 66,
   "id": "a1ad67a3-14de-4127-9d83-7d6742c13e04",
   "metadata": {},
   "outputs": [
    {
     "data": {
      "text/plain": [
       "5.0     2150\n",
       "1.0     1360\n",
       "4.0     1128\n",
       "3.0      663\n",
       "2.0      376\n",
       "3.5       27\n",
       "4.5       22\n",
       "4.8       18\n",
       "3.7       15\n",
       "4.3       13\n",
       "2.7       13\n",
       "1.7       12\n",
       "3.2       12\n",
       "2.2       10\n",
       "2.5        9\n",
       "1.5        7\n",
       "6.1        3\n",
       "9.6        2\n",
       "1.2        2\n",
       "7.5        2\n",
       "9.1        2\n",
       "8.8        2\n",
       "10.0       1\n",
       "9.0        1\n",
       "8.3        1\n",
       "7.0        1\n",
       "5.6        1\n",
       "6.6        1\n",
       "5.4        1\n",
       "Name: rating, dtype: int64"
      ]
     },
     "execution_count": 66,
     "metadata": {},
     "output_type": "execute_result"
    }
   ],
   "source": [
    "all_review[\"rating\"].value_counts()"
   ]
  },
  {
   "cell_type": "code",
   "execution_count": 68,
   "id": "27f19872-c6b9-4286-9a50-f4c4bf6bc15e",
   "metadata": {},
   "outputs": [
    {
     "data": {
      "text/plain": [
       "hotel_name     object\n",
       "review         object\n",
       "rating        float64\n",
       "dtype: object"
      ]
     },
     "execution_count": 68,
     "metadata": {},
     "output_type": "execute_result"
    }
   ],
   "source": [
    "all_review.dtypes"
   ]
  },
  {
   "cell_type": "code",
   "execution_count": 69,
   "id": "32ee67a9-ea1e-4102-baae-039d0c84d913",
   "metadata": {},
   "outputs": [],
   "source": [
    "# keeping only 1 2 3 4 5 stars ratings\n",
    "all_review_integer_rating = all_review[all_review[\"rating\"].isin([1., 2., 3., 4., 5.])]\n",
    "\n",
    "# casting the rows into the correct datatype\n",
    "all_review_integer_rating = all_review_integer_rating.convert_dtypes()"
   ]
  },
  {
   "cell_type": "code",
   "execution_count": 70,
   "id": "d7f628f4-8220-4454-a766-e1ecd97698ec",
   "metadata": {},
   "outputs": [
    {
     "data": {
      "text/plain": [
       "hotel_name    string\n",
       "review        string\n",
       "rating         Int64\n",
       "dtype: object"
      ]
     },
     "execution_count": 70,
     "metadata": {},
     "output_type": "execute_result"
    }
   ],
   "source": [
    "all_review_integer_rating.dtypes"
   ]
  },
  {
   "cell_type": "code",
   "execution_count": 71,
   "id": "8058612b-d6d4-40ee-a720-5af44efa152a",
   "metadata": {},
   "outputs": [
    {
     "data": {
      "text/html": [
       "<div>\n",
       "<style scoped>\n",
       "    .dataframe tbody tr th:only-of-type {\n",
       "        vertical-align: middle;\n",
       "    }\n",
       "\n",
       "    .dataframe tbody tr th {\n",
       "        vertical-align: top;\n",
       "    }\n",
       "\n",
       "    .dataframe thead th {\n",
       "        text-align: right;\n",
       "    }\n",
       "</style>\n",
       "<table border=\"1\" class=\"dataframe\">\n",
       "  <thead>\n",
       "    <tr style=\"text-align: right;\">\n",
       "      <th></th>\n",
       "      <th>count</th>\n",
       "      <th>mean</th>\n",
       "      <th>std</th>\n",
       "      <th>min</th>\n",
       "      <th>25%</th>\n",
       "      <th>50%</th>\n",
       "      <th>75%</th>\n",
       "      <th>max</th>\n",
       "    </tr>\n",
       "  </thead>\n",
       "  <tbody>\n",
       "    <tr>\n",
       "      <th>rating</th>\n",
       "      <td>5677.0</td>\n",
       "      <td>3.41078</td>\n",
       "      <td>1.603053</td>\n",
       "      <td>1.0</td>\n",
       "      <td>2.0</td>\n",
       "      <td>4.0</td>\n",
       "      <td>5.0</td>\n",
       "      <td>5.0</td>\n",
       "    </tr>\n",
       "  </tbody>\n",
       "</table>\n",
       "</div>"
      ],
      "text/plain": [
       "         count     mean       std  min  25%  50%  75%  max\n",
       "rating  5677.0  3.41078  1.603053  1.0  2.0  4.0  5.0  5.0"
      ]
     },
     "execution_count": 71,
     "metadata": {},
     "output_type": "execute_result"
    }
   ],
   "source": [
    "all_review_integer_rating.describe().T"
   ]
  },
  {
   "cell_type": "code",
   "execution_count": 72,
   "id": "1c54b8b0-4d6b-49d0-bdd2-faa1c9add1e5",
   "metadata": {},
   "outputs": [
    {
     "data": {
      "text/plain": [
       "array([[<AxesSubplot:title={'center':'rating'}>]], dtype=object)"
      ]
     },
     "execution_count": 72,
     "metadata": {},
     "output_type": "execute_result"
    },
    {
     "data": {
      "image/png": "[encoded data removed]",
      "text/plain": [
       "<Figure size 432x288 with 1 Axes>"
      ]
     },
     "metadata": {
      "needs_background": "light"
     },
     "output_type": "display_data"
    }
   ],
   "source": [
    "all_review_integer_rating.hist()"
   ]
  },
  {
   "cell_type": "code",
   "execution_count": 74,
   "id": "5824b619-b8be-46e3-aacd-cdbea0e178be",
   "metadata": {},
   "outputs": [
    {
     "data": {
      "text/html": [
       "<div>\n",
       "<style scoped>\n",
       "    .dataframe tbody tr th:only-of-type {\n",
       "        vertical-align: middle;\n",
       "    }\n",
       "\n",
       "    .dataframe tbody tr th {\n",
       "        vertical-align: top;\n",
       "    }\n",
       "\n",
       "    .dataframe thead th {\n",
       "        text-align: right;\n",
       "    }\n",
       "</style>\n",
       "<table border=\"1\" class=\"dataframe\">\n",
       "  <thead>\n",
       "    <tr style=\"text-align: right;\">\n",
       "      <th></th>\n",
       "      <th>hotel_name</th>\n",
       "      <th>review</th>\n",
       "    </tr>\n",
       "  </thead>\n",
       "  <tbody>\n",
       "    <tr>\n",
       "      <th>count</th>\n",
       "      <td>5677</td>\n",
       "      <td>5677</td>\n",
       "    </tr>\n",
       "    <tr>\n",
       "      <th>unique</th>\n",
       "      <td>733</td>\n",
       "      <td>5602</td>\n",
       "    </tr>\n",
       "    <tr>\n",
       "      <th>top</th>\n",
       "      <td>7 Days Inn</td>\n",
       "      <td>Ok</td>\n",
       "    </tr>\n",
       "    <tr>\n",
       "      <th>freq</th>\n",
       "      <td>22</td>\n",
       "      <td>16</td>\n",
       "    </tr>\n",
       "  </tbody>\n",
       "</table>\n",
       "</div>"
      ],
      "text/plain": [
       "        hotel_name review\n",
       "count         5677   5677\n",
       "unique         733   5602\n",
       "top     7 Days Inn     Ok\n",
       "freq            22     16"
      ]
     },
     "execution_count": 74,
     "metadata": {},
     "output_type": "execute_result"
    }
   ],
   "source": [
    "all_review_integer_rating[[\"hotel_name\", \"review\"]].describe()"
   ]
  },
  {
   "cell_type": "code",
   "execution_count": 73,
   "id": "25f551a9-7e6b-481d-aba8-4b927c3f47e6",
   "metadata": {},
   "outputs": [
    {
     "data": {
      "text/html": [
       "<div>\n",
       "<style scoped>\n",
       "    .dataframe tbody tr th:only-of-type {\n",
       "        vertical-align: middle;\n",
       "    }\n",
       "\n",
       "    .dataframe tbody tr th {\n",
       "        vertical-align: top;\n",
       "    }\n",
       "\n",
       "    .dataframe thead th {\n",
       "        text-align: right;\n",
       "    }\n",
       "</style>\n",
       "<table border=\"1\" class=\"dataframe\">\n",
       "  <thead>\n",
       "    <tr style=\"text-align: right;\">\n",
       "      <th></th>\n",
       "      <th>hotel_name</th>\n",
       "      <th>review</th>\n",
       "      <th>rating</th>\n",
       "    </tr>\n",
       "  </thead>\n",
       "  <tbody>\n",
       "    <tr>\n",
       "      <th>0</th>\n",
       "      <td>Ecolodge Le Ravoraha</td>\n",
       "      <td>Very warm and welcoming staff!\n",
       "The rooms were ...</td>\n",
       "      <td>5</td>\n",
       "    </tr>\n",
       "    <tr>\n",
       "      <th>1</th>\n",
       "      <td>Ecolodge Le Ravoraha</td>\n",
       "      <td>What a lovely place to stay. Beautiful bungalo...</td>\n",
       "      <td>5</td>\n",
       "    </tr>\n",
       "    <tr>\n",
       "      <th>2</th>\n",
       "      <td>Ecolodge Le Ravoraha</td>\n",
       "      <td>A fantastic place where it's worth spending so...</td>\n",
       "      <td>5</td>\n",
       "    </tr>\n",
       "    <tr>\n",
       "      <th>3</th>\n",
       "      <td>Ecolodge Le Ravoraha</td>\n",
       "      <td>We have stayed at Ecolodge Ravoraha for 12 day...</td>\n",
       "      <td>5</td>\n",
       "    </tr>\n",
       "    <tr>\n",
       "      <th>4</th>\n",
       "      <td>Ecolodge Le Ravoraha</td>\n",
       "      <td>During our whole trip in Madagascar, this was ...</td>\n",
       "      <td>3</td>\n",
       "    </tr>\n",
       "  </tbody>\n",
       "</table>\n",
       "</div>"
      ],
      "text/plain": [
       "             hotel_name                                             review  \\\n",
       "0  Ecolodge Le Ravoraha  Very warm and welcoming staff!\n",
       "The rooms were ...   \n",
       "1  Ecolodge Le Ravoraha  What a lovely place to stay. Beautiful bungalo...   \n",
       "2  Ecolodge Le Ravoraha  A fantastic place where it's worth spending so...   \n",
       "3  Ecolodge Le Ravoraha  We have stayed at Ecolodge Ravoraha for 12 day...   \n",
       "4  Ecolodge Le Ravoraha  During our whole trip in Madagascar, this was ...   \n",
       "\n",
       "   rating  \n",
       "0       5  \n",
       "1       5  \n",
       "2       5  \n",
       "3       5  \n",
       "4       3  "
      ]
     },
     "execution_count": 73,
     "metadata": {},
     "output_type": "execute_result"
    }
   ],
   "source": [
    "all_review_integer_rating.head()"
   ]
  },
  {
   "cell_type": "code",
   "execution_count": 75,
   "id": "5925a8ce-0926-4c98-968b-3ce7cbfc82c9",
   "metadata": {},
   "outputs": [
    {
     "data": {
      "text/html": [
       "<div>\n",
       "<style scoped>\n",
       "    .dataframe tbody tr th:only-of-type {\n",
       "        vertical-align: middle;\n",
       "    }\n",
       "\n",
       "    .dataframe tbody tr th {\n",
       "        vertical-align: top;\n",
       "    }\n",
       "\n",
       "    .dataframe thead th {\n",
       "        text-align: right;\n",
       "    }\n",
       "</style>\n",
       "<table border=\"1\" class=\"dataframe\">\n",
       "  <thead>\n",
       "    <tr style=\"text-align: right;\">\n",
       "      <th></th>\n",
       "      <th>hotel_name</th>\n",
       "      <th>review</th>\n",
       "      <th>rating</th>\n",
       "    </tr>\n",
       "  </thead>\n",
       "  <tbody>\n",
       "    <tr>\n",
       "      <th>1730</th>\n",
       "      <td>MS Boutique Hotel Kuala Lumpur</td>\n",
       "      <td>Easy process but very long time find out</td>\n",
       "      <td>1</td>\n",
       "    </tr>\n",
       "    <tr>\n",
       "      <th>1731</th>\n",
       "      <td>MS Boutique Hotel Kuala Lumpur</td>\n",
       "      <td>nice～</td>\n",
       "      <td>4</td>\n",
       "    </tr>\n",
       "    <tr>\n",
       "      <th>1732</th>\n",
       "      <td>MS Boutique Hotel Kuala Lumpur</td>\n",
       "      <td>Low price with cozy place 😍</td>\n",
       "      <td>5</td>\n",
       "    </tr>\n",
       "    <tr>\n",
       "      <th>1733</th>\n",
       "      <td>MS Boutique Hotel Kuala Lumpur</td>\n",
       "      <td>Stayed one night. Very luxury room with a good...</td>\n",
       "      <td>5</td>\n",
       "    </tr>\n",
       "    <tr>\n",
       "      <th>1734</th>\n",
       "      <td>MS Boutique Hotel Kuala Lumpur</td>\n",
       "      <td>Such a nice and comfortable place to stay.</td>\n",
       "      <td>5</td>\n",
       "    </tr>\n",
       "  </tbody>\n",
       "</table>\n",
       "</div>"
      ],
      "text/plain": [
       "                          hotel_name  \\\n",
       "1730  MS Boutique Hotel Kuala Lumpur   \n",
       "1731  MS Boutique Hotel Kuala Lumpur   \n",
       "1732  MS Boutique Hotel Kuala Lumpur   \n",
       "1733  MS Boutique Hotel Kuala Lumpur   \n",
       "1734  MS Boutique Hotel Kuala Lumpur   \n",
       "\n",
       "                                                 review  rating  \n",
       "1730           Easy process but very long time find out       1  \n",
       "1731                                              nice～       4  \n",
       "1732                        Low price with cozy place 😍       5  \n",
       "1733  Stayed one night. Very luxury room with a good...       5  \n",
       "1734         Such a nice and comfortable place to stay.       5  "
      ]
     },
     "execution_count": 75,
     "metadata": {},
     "output_type": "execute_result"
    }
   ],
   "source": [
    "all_review_integer_rating.tail()"
   ]
  },
  {
   "cell_type": "markdown",
   "id": "b9e80c75-0546-487b-b21b-20483ccc7681",
   "metadata": {},
   "source": [
    "## Keeping only english language reviews"
   ]
  },
  {
   "cell_type": "code",
   "execution_count": 77,
   "id": "b3deea06-366f-48da-9e1a-8622cef4f6a4",
   "metadata": {},
   "outputs": [],
   "source": [
    "def keep_english(text):\n",
    "    \"\"\"Check if the input text contains text between the following two string\n",
    "                (Translated by Google) and (Original)\n",
    "       If this is the case then returns the text in between else returns the same text\n",
    "       as the input. If the text contains only (Translated by Google) then it will remove the\n",
    "       substring (Translated by Google).\n",
    "       Innput:\n",
    "       ------     text: (str)\n",
    "       \n",
    "       Output:\n",
    "       ------      (str)\n",
    "    \"\"\"\n",
    "\n",
    "    search_result1 = re.search('\\(Translated by Google\\)(.*)\\n\\(Original\\)', text)\n",
    "    search_result2 = re.search('\\(Translated by Google\\)(.*) …', text) \n",
    "\n",
    "    if (search_result1 is None) and (search_result2 is None):\n",
    "        return text\n",
    "    elif search_result2 is None:\n",
    "        return search_result1.group(1)\n",
    "    else:\n",
    "        return search_result2.group(1)"
   ]
  },
  {
   "cell_type": "code",
   "execution_count": 79,
   "id": "7d0bc079-844c-4d01-bbf0-7c02d1c111f2",
   "metadata": {},
   "outputs": [
    {
     "data": {
      "text/html": [
       "<div>\n",
       "<style scoped>\n",
       "    .dataframe tbody tr th:only-of-type {\n",
       "        vertical-align: middle;\n",
       "    }\n",
       "\n",
       "    .dataframe tbody tr th {\n",
       "        vertical-align: top;\n",
       "    }\n",
       "\n",
       "    .dataframe thead th {\n",
       "        text-align: right;\n",
       "    }\n",
       "</style>\n",
       "<table border=\"1\" class=\"dataframe\">\n",
       "  <thead>\n",
       "    <tr style=\"text-align: right;\">\n",
       "      <th></th>\n",
       "      <th>hotel_name</th>\n",
       "      <th>review</th>\n",
       "      <th>rating</th>\n",
       "    </tr>\n",
       "  </thead>\n",
       "  <tbody>\n",
       "    <tr>\n",
       "      <th>0</th>\n",
       "      <td>Ecolodge Le Ravoraha</td>\n",
       "      <td>Very warm and welcoming staff!\\nThe rooms were...</td>\n",
       "      <td>5.0</td>\n",
       "    </tr>\n",
       "    <tr>\n",
       "      <th>1</th>\n",
       "      <td>Ecolodge Le Ravoraha</td>\n",
       "      <td>What a lovely place to stay. Beautiful bungalo...</td>\n",
       "      <td>5.0</td>\n",
       "    </tr>\n",
       "    <tr>\n",
       "      <th>2</th>\n",
       "      <td>Ecolodge Le Ravoraha</td>\n",
       "      <td>A fantastic place where it's worth spending so...</td>\n",
       "      <td>5.0</td>\n",
       "    </tr>\n",
       "    <tr>\n",
       "      <th>3</th>\n",
       "      <td>Ecolodge Le Ravoraha</td>\n",
       "      <td>We have stayed at Ecolodge Ravoraha for 12 day...</td>\n",
       "      <td>5.0</td>\n",
       "    </tr>\n",
       "    <tr>\n",
       "      <th>4</th>\n",
       "      <td>Ecolodge Le Ravoraha</td>\n",
       "      <td>During our whole trip in Madagascar, this was ...</td>\n",
       "      <td>3.0</td>\n",
       "    </tr>\n",
       "    <tr>\n",
       "      <th>5</th>\n",
       "      <td>Ecolodge Le Ravoraha</td>\n",
       "      <td>Very welcoming staff, hotel close to the airpo...</td>\n",
       "      <td>4.0</td>\n",
       "    </tr>\n",
       "    <tr>\n",
       "      <th>6</th>\n",
       "      <td>Ecolodge Le Ravoraha</td>\n",
       "      <td>Stunning beaches</td>\n",
       "      <td>5.0</td>\n",
       "    </tr>\n",
       "    <tr>\n",
       "      <th>7</th>\n",
       "      <td>Ecolodge Le Ravoraha</td>\n",
       "      <td>(Translated by Google) The place is very well ...</td>\n",
       "      <td>5.0</td>\n",
       "    </tr>\n",
       "    <tr>\n",
       "      <th>8</th>\n",
       "      <td>Ecolodge Le Ravoraha</td>\n",
       "      <td>(Translated by Google) Quite simply the best v...</td>\n",
       "      <td>5.0</td>\n",
       "    </tr>\n",
       "    <tr>\n",
       "      <th>9</th>\n",
       "      <td>Ecolodge Le Ravoraha</td>\n",
       "      <td>(Translated by Google) Fairytale place, cozy, ...</td>\n",
       "      <td>5.0</td>\n",
       "    </tr>\n",
       "  </tbody>\n",
       "</table>\n",
       "</div>"
      ],
      "text/plain": [
       "             hotel_name                                             review  \\\n",
       "0  Ecolodge Le Ravoraha  Very warm and welcoming staff!\\nThe rooms were...   \n",
       "1  Ecolodge Le Ravoraha  What a lovely place to stay. Beautiful bungalo...   \n",
       "2  Ecolodge Le Ravoraha  A fantastic place where it's worth spending so...   \n",
       "3  Ecolodge Le Ravoraha  We have stayed at Ecolodge Ravoraha for 12 day...   \n",
       "4  Ecolodge Le Ravoraha  During our whole trip in Madagascar, this was ...   \n",
       "5  Ecolodge Le Ravoraha  Very welcoming staff, hotel close to the airpo...   \n",
       "6  Ecolodge Le Ravoraha                                   Stunning beaches   \n",
       "7  Ecolodge Le Ravoraha  (Translated by Google) The place is very well ...   \n",
       "8  Ecolodge Le Ravoraha  (Translated by Google) Quite simply the best v...   \n",
       "9  Ecolodge Le Ravoraha  (Translated by Google) Fairytale place, cozy, ...   \n",
       "\n",
       "   rating  \n",
       "0     5.0  \n",
       "1     5.0  \n",
       "2     5.0  \n",
       "3     5.0  \n",
       "4     3.0  \n",
       "5     4.0  \n",
       "6     5.0  \n",
       "7     5.0  \n",
       "8     5.0  \n",
       "9     5.0  "
      ]
     },
     "execution_count": 79,
     "metadata": {},
     "output_type": "execute_result"
    }
   ],
   "source": [
    "sample_review = all_review.iloc[:10,:]\n",
    "sample_review"
   ]
  },
  {
   "cell_type": "code",
   "execution_count": 80,
   "id": "44e447e8-9f7e-4baa-b7cb-733808ffa58b",
   "metadata": {},
   "outputs": [
    {
     "data": {
      "text/plain": [
       "0    Very warm and welcoming staff!\\nThe rooms were...\n",
       "1    What a lovely place to stay. Beautiful bungalo...\n",
       "2    A fantastic place where it's worth spending so...\n",
       "3    We have stayed at Ecolodge Ravoraha for 12 day...\n",
       "4    During our whole trip in Madagascar, this was ...\n",
       "5    Very welcoming staff, hotel close to the airpo...\n",
       "6                                     Stunning beaches\n",
       "7                The place is very well conceptualized\n",
       "8     Quite simply the best vacation of my life bot...\n",
       "9     Fairytale place, cozy, calm, intimate, staff ...\n",
       "Name: review, dtype: object"
      ]
     },
     "execution_count": 80,
     "metadata": {},
     "output_type": "execute_result"
    }
   ],
   "source": [
    "sample_review.review.apply(keep_english)"
   ]
  },
  {
   "cell_type": "code",
   "execution_count": 81,
   "id": "082c04c6-4700-47f7-bbbd-19933c79fe90",
   "metadata": {},
   "outputs": [],
   "source": [
    "all_review_english = all_review_integer_rating[[\"hotel_name\", \"rating\"]]\n",
    "all_review_english[\"review\"] = all_review_integer_rating.review.apply(keep_english)\n",
    "\n",
    "# saving the data to local directory\n",
    "all_review_english.to_csv(\"data/all_review_english.csv\")"
   ]
  },
  {
   "cell_type": "markdown",
   "id": "b8a058e4-1d77-4e68-97cc-b36b9b9b0004",
   "metadata": {},
   "source": [
    "# Keeping only text review and binary ratings\n",
    "+ For binary classification: positive, negative."
   ]
  },
  {
   "cell_type": "code",
   "execution_count": 89,
   "id": "7bcd0b8b-5723-40a3-8592-13cd193ae86c",
   "metadata": {},
   "outputs": [],
   "source": [
    "raw_reviews_final = pd.read_csv(\"data/all_review_english.csv\", index_col=0)"
   ]
  },
  {
   "cell_type": "code",
   "execution_count": 90,
   "id": "226ea15c-a572-4668-a85e-69fe4e9b0072",
   "metadata": {},
   "outputs": [
    {
     "data": {
      "text/html": [
       "<div>\n",
       "<style scoped>\n",
       "    .dataframe tbody tr th:only-of-type {\n",
       "        vertical-align: middle;\n",
       "    }\n",
       "\n",
       "    .dataframe tbody tr th {\n",
       "        vertical-align: top;\n",
       "    }\n",
       "\n",
       "    .dataframe thead th {\n",
       "        text-align: right;\n",
       "    }\n",
       "</style>\n",
       "<table border=\"1\" class=\"dataframe\">\n",
       "  <thead>\n",
       "    <tr style=\"text-align: right;\">\n",
       "      <th></th>\n",
       "      <th>hotel_name</th>\n",
       "      <th>rating</th>\n",
       "      <th>review</th>\n",
       "    </tr>\n",
       "  </thead>\n",
       "  <tbody>\n",
       "    <tr>\n",
       "      <th>0</th>\n",
       "      <td>Ecolodge Le Ravoraha</td>\n",
       "      <td>5</td>\n",
       "      <td>Very warm and welcoming staff!\\nThe rooms were...</td>\n",
       "    </tr>\n",
       "    <tr>\n",
       "      <th>1</th>\n",
       "      <td>Ecolodge Le Ravoraha</td>\n",
       "      <td>5</td>\n",
       "      <td>What a lovely place to stay. Beautiful bungalo...</td>\n",
       "    </tr>\n",
       "    <tr>\n",
       "      <th>2</th>\n",
       "      <td>Ecolodge Le Ravoraha</td>\n",
       "      <td>5</td>\n",
       "      <td>A fantastic place where it's worth spending so...</td>\n",
       "    </tr>\n",
       "    <tr>\n",
       "      <th>3</th>\n",
       "      <td>Ecolodge Le Ravoraha</td>\n",
       "      <td>5</td>\n",
       "      <td>We have stayed at Ecolodge Ravoraha for 12 day...</td>\n",
       "    </tr>\n",
       "    <tr>\n",
       "      <th>4</th>\n",
       "      <td>Ecolodge Le Ravoraha</td>\n",
       "      <td>3</td>\n",
       "      <td>During our whole trip in Madagascar, this was ...</td>\n",
       "    </tr>\n",
       "  </tbody>\n",
       "</table>\n",
       "</div>"
      ],
      "text/plain": [
       "             hotel_name  rating  \\\n",
       "0  Ecolodge Le Ravoraha       5   \n",
       "1  Ecolodge Le Ravoraha       5   \n",
       "2  Ecolodge Le Ravoraha       5   \n",
       "3  Ecolodge Le Ravoraha       5   \n",
       "4  Ecolodge Le Ravoraha       3   \n",
       "\n",
       "                                              review  \n",
       "0  Very warm and welcoming staff!\\nThe rooms were...  \n",
       "1  What a lovely place to stay. Beautiful bungalo...  \n",
       "2  A fantastic place where it's worth spending so...  \n",
       "3  We have stayed at Ecolodge Ravoraha for 12 day...  \n",
       "4  During our whole trip in Madagascar, this was ...  "
      ]
     },
     "execution_count": 90,
     "metadata": {},
     "output_type": "execute_result"
    }
   ],
   "source": [
    "raw_reviews_final.head()"
   ]
  },
  {
   "cell_type": "code",
   "execution_count": 91,
   "id": "5ddc04a8-aab0-401d-853b-cac83bc0104f",
   "metadata": {},
   "outputs": [],
   "source": [
    "review_dataset = raw_reviews_final[[\"review\", \"rating\"]]\n",
    "review_dataset[\"sentiment\"]= review_dataset.apply(lambda row: 1 if row[\"rating\"] > 3 else 0,\n",
    "                                                 axis=1)"
   ]
  },
  {
   "cell_type": "code",
   "execution_count": 92,
   "id": "5b3d2864-bab1-48d0-93ae-2544595d6dc6",
   "metadata": {},
   "outputs": [
    {
     "data": {
      "text/plain": [
       "array([1, 0])"
      ]
     },
     "execution_count": 92,
     "metadata": {},
     "output_type": "execute_result"
    }
   ],
   "source": [
    "review_dataset.sentiment.unique()"
   ]
  },
  {
   "cell_type": "code",
   "execution_count": 93,
   "id": "2c329e40-7597-47d3-b28d-17cdddab2a8f",
   "metadata": {},
   "outputs": [
    {
     "data": {
      "text/html": [
       "<div>\n",
       "<style scoped>\n",
       "    .dataframe tbody tr th:only-of-type {\n",
       "        vertical-align: middle;\n",
       "    }\n",
       "\n",
       "    .dataframe tbody tr th {\n",
       "        vertical-align: top;\n",
       "    }\n",
       "\n",
       "    .dataframe thead th {\n",
       "        text-align: right;\n",
       "    }\n",
       "</style>\n",
       "<table border=\"1\" class=\"dataframe\">\n",
       "  <thead>\n",
       "    <tr style=\"text-align: right;\">\n",
       "      <th></th>\n",
       "      <th>review</th>\n",
       "      <th>rating</th>\n",
       "      <th>sentiment</th>\n",
       "    </tr>\n",
       "  </thead>\n",
       "  <tbody>\n",
       "    <tr>\n",
       "      <th>0</th>\n",
       "      <td>Very warm and welcoming staff!\\nThe rooms were...</td>\n",
       "      <td>5</td>\n",
       "      <td>1</td>\n",
       "    </tr>\n",
       "    <tr>\n",
       "      <th>1</th>\n",
       "      <td>What a lovely place to stay. Beautiful bungalo...</td>\n",
       "      <td>5</td>\n",
       "      <td>1</td>\n",
       "    </tr>\n",
       "    <tr>\n",
       "      <th>2</th>\n",
       "      <td>A fantastic place where it's worth spending so...</td>\n",
       "      <td>5</td>\n",
       "      <td>1</td>\n",
       "    </tr>\n",
       "    <tr>\n",
       "      <th>3</th>\n",
       "      <td>We have stayed at Ecolodge Ravoraha for 12 day...</td>\n",
       "      <td>5</td>\n",
       "      <td>1</td>\n",
       "    </tr>\n",
       "    <tr>\n",
       "      <th>4</th>\n",
       "      <td>During our whole trip in Madagascar, this was ...</td>\n",
       "      <td>3</td>\n",
       "      <td>0</td>\n",
       "    </tr>\n",
       "  </tbody>\n",
       "</table>\n",
       "</div>"
      ],
      "text/plain": [
       "                                              review  rating  sentiment\n",
       "0  Very warm and welcoming staff!\\nThe rooms were...       5          1\n",
       "1  What a lovely place to stay. Beautiful bungalo...       5          1\n",
       "2  A fantastic place where it's worth spending so...       5          1\n",
       "3  We have stayed at Ecolodge Ravoraha for 12 day...       5          1\n",
       "4  During our whole trip in Madagascar, this was ...       3          0"
      ]
     },
     "execution_count": 93,
     "metadata": {},
     "output_type": "execute_result"
    }
   ],
   "source": [
    "review_dataset.head()"
   ]
  },
  {
   "cell_type": "code",
   "execution_count": 94,
   "id": "c3b92349-6d0b-4e98-9299-ec34a4e48e0c",
   "metadata": {},
   "outputs": [
    {
     "data": {
      "text/html": [
       "<div>\n",
       "<style scoped>\n",
       "    .dataframe tbody tr th:only-of-type {\n",
       "        vertical-align: middle;\n",
       "    }\n",
       "\n",
       "    .dataframe tbody tr th {\n",
       "        vertical-align: top;\n",
       "    }\n",
       "\n",
       "    .dataframe thead th {\n",
       "        text-align: right;\n",
       "    }\n",
       "</style>\n",
       "<table border=\"1\" class=\"dataframe\">\n",
       "  <thead>\n",
       "    <tr style=\"text-align: right;\">\n",
       "      <th></th>\n",
       "      <th>review</th>\n",
       "      <th>rating</th>\n",
       "      <th>sentiment</th>\n",
       "    </tr>\n",
       "  </thead>\n",
       "  <tbody>\n",
       "    <tr>\n",
       "      <th>1730</th>\n",
       "      <td>Easy process but very long time find out</td>\n",
       "      <td>1</td>\n",
       "      <td>0</td>\n",
       "    </tr>\n",
       "    <tr>\n",
       "      <th>1731</th>\n",
       "      <td>nice～</td>\n",
       "      <td>4</td>\n",
       "      <td>1</td>\n",
       "    </tr>\n",
       "    <tr>\n",
       "      <th>1732</th>\n",
       "      <td>Low price with cozy place 😍</td>\n",
       "      <td>5</td>\n",
       "      <td>1</td>\n",
       "    </tr>\n",
       "    <tr>\n",
       "      <th>1733</th>\n",
       "      <td>Stayed one night. Very luxury room with a good...</td>\n",
       "      <td>5</td>\n",
       "      <td>1</td>\n",
       "    </tr>\n",
       "    <tr>\n",
       "      <th>1734</th>\n",
       "      <td>Such a nice and comfortable place to stay.</td>\n",
       "      <td>5</td>\n",
       "      <td>1</td>\n",
       "    </tr>\n",
       "  </tbody>\n",
       "</table>\n",
       "</div>"
      ],
      "text/plain": [
       "                                                 review  rating  sentiment\n",
       "1730           Easy process but very long time find out       1          0\n",
       "1731                                              nice～       4          1\n",
       "1732                        Low price with cozy place 😍       5          1\n",
       "1733  Stayed one night. Very luxury room with a good...       5          1\n",
       "1734         Such a nice and comfortable place to stay.       5          1"
      ]
     },
     "execution_count": 94,
     "metadata": {},
     "output_type": "execute_result"
    }
   ],
   "source": [
    "review_dataset.tail()"
   ]
  },
  {
   "cell_type": "code",
   "execution_count": 95,
   "id": "f6883e5c-bf0e-44c5-b2e0-9d602dc10f8d",
   "metadata": {},
   "outputs": [
    {
     "data": {
      "text/html": [
       "<div>\n",
       "<style scoped>\n",
       "    .dataframe tbody tr th:only-of-type {\n",
       "        vertical-align: middle;\n",
       "    }\n",
       "\n",
       "    .dataframe tbody tr th {\n",
       "        vertical-align: top;\n",
       "    }\n",
       "\n",
       "    .dataframe thead th {\n",
       "        text-align: right;\n",
       "    }\n",
       "</style>\n",
       "<table border=\"1\" class=\"dataframe\">\n",
       "  <thead>\n",
       "    <tr style=\"text-align: right;\">\n",
       "      <th></th>\n",
       "      <th>count</th>\n",
       "      <th>mean</th>\n",
       "      <th>std</th>\n",
       "      <th>min</th>\n",
       "      <th>25%</th>\n",
       "      <th>50%</th>\n",
       "      <th>75%</th>\n",
       "      <th>max</th>\n",
       "    </tr>\n",
       "  </thead>\n",
       "  <tbody>\n",
       "    <tr>\n",
       "      <th>rating</th>\n",
       "      <td>5677.0</td>\n",
       "      <td>3.410780</td>\n",
       "      <td>1.603053</td>\n",
       "      <td>1.0</td>\n",
       "      <td>2.0</td>\n",
       "      <td>4.0</td>\n",
       "      <td>5.0</td>\n",
       "      <td>5.0</td>\n",
       "    </tr>\n",
       "    <tr>\n",
       "      <th>sentiment</th>\n",
       "      <td>5677.0</td>\n",
       "      <td>0.577418</td>\n",
       "      <td>0.494014</td>\n",
       "      <td>0.0</td>\n",
       "      <td>0.0</td>\n",
       "      <td>1.0</td>\n",
       "      <td>1.0</td>\n",
       "      <td>1.0</td>\n",
       "    </tr>\n",
       "  </tbody>\n",
       "</table>\n",
       "</div>"
      ],
      "text/plain": [
       "            count      mean       std  min  25%  50%  75%  max\n",
       "rating     5677.0  3.410780  1.603053  1.0  2.0  4.0  5.0  5.0\n",
       "sentiment  5677.0  0.577418  0.494014  0.0  0.0  1.0  1.0  1.0"
      ]
     },
     "execution_count": 95,
     "metadata": {},
     "output_type": "execute_result"
    }
   ],
   "source": [
    "review_dataset.describe().T"
   ]
  },
  {
   "cell_type": "code",
   "execution_count": 96,
   "id": "31d53240-8d40-412a-9b62-307f93719735",
   "metadata": {},
   "outputs": [
    {
     "data": {
      "text/plain": [
       "<AxesSubplot:ylabel='Frequency'>"
      ]
     },
     "execution_count": 96,
     "metadata": {},
     "output_type": "execute_result"
    },
    {
     "data": {
      "image/png": "[encoded data removed]",
      "text/plain": [
       "<Figure size 432x288 with 1 Axes>"
      ]
     },
     "metadata": {
      "needs_background": "light"
     },
     "output_type": "display_data"
    }
   ],
   "source": [
    "review_dataset.sentiment.plot(kind=\"hist\")"
   ]
  },
  {
   "cell_type": "code",
   "execution_count": 97,
   "id": "7d6460b7-e86e-4132-884e-772120e0d59c",
   "metadata": {},
   "outputs": [
    {
     "data": {
      "text/plain": [
       "count    5677.000000\n",
       "mean        0.577418\n",
       "std         0.494014\n",
       "min         0.000000\n",
       "25%         0.000000\n",
       "50%         1.000000\n",
       "75%         1.000000\n",
       "max         1.000000\n",
       "Name: sentiment, dtype: float64"
      ]
     },
     "execution_count": 97,
     "metadata": {},
     "output_type": "execute_result"
    }
   ],
   "source": [
    "review_dataset.sentiment.describe()"
   ]
  },
  {
   "cell_type": "code",
   "execution_count": 98,
   "id": "ced6c3d7-aec1-4fe6-8755-1954f1a2cdb1",
   "metadata": {},
   "outputs": [],
   "source": [
    "# saving the final data to local directory\n",
    "review_dataset.to_csv(\"data/review_dataset.csv\")"
   ]
  }
 ],
 "metadata": {
  "kernelspec": {
   "display_name": "Python 3",
   "language": "python",
   "name": "python3"
  },
  "language_info": {
   "codemirror_mode": {
    "name": "ipython",
    "version": 3
   },
   "file_extension": ".py",
   "mimetype": "text/x-python",
   "name": "python",
   "nbconvert_exporter": "python",
   "pygments_lexer": "ipython3",
   "version": "3.7.12"
  }
 },
 "nbformat": 4,
 "nbformat_minor": 5
}
